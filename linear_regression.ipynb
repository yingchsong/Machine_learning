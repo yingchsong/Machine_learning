{
 "cells": [
  {
   "attachments": {},
   "cell_type": "markdown",
   "metadata": {},
   "source": [
    "# Linear Regression"
   ]
  },
  {
   "cell_type": "code",
   "execution_count": 1,
   "metadata": {},
   "outputs": [],
   "source": [
    "import matplotlib.pyplot as plt\n",
    "import numpy as np\n",
    "from sklearn import datasets, linear_model\n",
    "from sklearn.metrics import mean_squared_error, r2_score"
   ]
  },
  {
   "cell_type": "code",
   "execution_count": 121,
   "metadata": {},
   "outputs": [],
   "source": [
    "diabetes_X, diabetes_y = datasets.load_diabetes(return_X_y=True)\n"
   ]
  },
  {
   "cell_type": "code",
   "execution_count": 122,
   "metadata": {},
   "outputs": [],
   "source": [
    "diabetes_X = np.concatenate((np.ones((diabetes_X.shape[0], 1)), diabetes_X), axis=1)"
   ]
  },
  {
   "cell_type": "code",
   "execution_count": 123,
   "metadata": {},
   "outputs": [],
   "source": [
    "diabetes_X_train = diabetes_X[:-20]\n",
    "diabetes_X_test = diabetes_X[-20:]\n",
    "diabetes_y_train = diabetes_y[:-20]\n",
    "diabetes_y_test = diabetes_y[-20:]"
   ]
  },
  {
   "cell_type": "code",
   "execution_count": 102,
   "metadata": {},
   "outputs": [],
   "source": []
  },
  {
   "cell_type": "code",
   "execution_count": 131,
   "metadata": {},
   "outputs": [
    {
     "data": {
      "text/plain": [
       "array([ 1.        ,  0.03807591,  0.05068012,  0.06169621,  0.02187239,\n",
       "       -0.0442235 , -0.03482076, -0.04340085, -0.00259226,  0.01990749,\n",
       "       -0.01764613])"
      ]
     },
     "execution_count": 131,
     "metadata": {},
     "output_type": "execute_result"
    }
   ],
   "source": [
    "diabetes_X_train[0]"
   ]
  },
  {
   "cell_type": "code",
   "execution_count": 125,
   "metadata": {},
   "outputs": [
    {
     "name": "stdout",
     "output_type": "stream",
     "text": [
      "Coefficients: \n",
      " [ 0.00000000e+00  3.06094248e-01 -2.37635570e+02  5.10538048e+02\n",
      "  3.27729878e+02 -8.14111926e+02  4.92799595e+02  1.02841240e+02\n",
      "  1.84603496e+02  7.43509388e+02  7.60966464e+01]\n",
      "Mean squared error: 2004.52\n"
     ]
    }
   ],
   "source": [
    "regr = linear_model.LinearRegression()\n",
    "\n",
    "# Train the model using the training sets\n",
    "regr.fit(diabetes_X_train, diabetes_y_train)\n",
    "\n",
    "# Make predictions using the testing set\n",
    "diabetes_y_pred = regr.predict(diabetes_X_test)\n",
    "print(\"Coefficients: \\n\", regr.coef_)\n",
    "print(\"Mean squared error: %.2f\" % mean_squared_error(diabetes_y_test, diabetes_y_pred))"
   ]
  },
  {
   "cell_type": "code",
   "execution_count": 145,
   "metadata": {},
   "outputs": [],
   "source": [
    "#theta=np.random.randint(0,100,(diabetes_X_train.shape[1],))\n",
    "theta = np.ones(diabetes_X_train.shape[1])\n"
   ]
  },
  {
   "cell_type": "code",
   "execution_count": 146,
   "metadata": {},
   "outputs": [
    {
     "data": {
      "text/plain": [
       "array([1., 1., 1., 1., 1., 1., 1., 1., 1., 1., 1.])"
      ]
     },
     "execution_count": 146,
     "metadata": {},
     "output_type": "execute_result"
    }
   ],
   "source": [
    "theta"
   ]
  },
  {
   "cell_type": "code",
   "execution_count": 137,
   "metadata": {},
   "outputs": [
    {
     "data": {
      "text/plain": [
       "149.95045139069572"
      ]
     },
     "execution_count": 137,
     "metadata": {},
     "output_type": "execute_result"
    }
   ],
   "source": [
    "j=0\n",
    "diabetes_y_train[j]-np.dot(theta,diabetes_X_train[j])"
   ]
  },
  {
   "cell_type": "code",
   "execution_count": 147,
   "metadata": {},
   "outputs": [
    {
     "name": "stdout",
     "output_type": "stream",
     "text": [
      "[153.34272606   7.63148401   2.01254871  21.60384754  16.4949544\n",
      "   8.24493036   6.81061733 -12.70721972  16.11162869  20.89780146\n",
      "  14.40805516]\n"
     ]
    }
   ],
   "source": [
    "# batch gradient descent\n",
    "epoch=1000\n",
    "rate=0.01\n",
    "for i in range(epoch):\n",
    "    sum=np.zeros(diabetes_X_train.shape[1])\n",
    "    for j in range(diabetes_X_train.shape[0]):\n",
    "        a = diabetes_y_train[j]-np.dot(theta,diabetes_X_train[j])\n",
    "        sum+=a*diabetes_X_train[j]\n",
    "    \n",
    "    theta = theta + rate * sum /diabetes_X_train.shape[0]\n",
    "print(theta)\n",
    "\n",
    "    \n",
    "\n",
    "\n",
    "   \n",
    "    "
   ]
  },
  {
   "cell_type": "code",
   "execution_count": 144,
   "metadata": {},
   "outputs": [
    {
     "name": "stdout",
     "output_type": "stream",
     "text": [
      "[ 154.06685833    5.17505119 -235.53252663  510.8695161   327.40611513\n",
      " -304.73436671   85.83633305 -122.15088293  123.14356373  553.06229243\n",
      "   81.08631888]\n"
     ]
    }
   ],
   "source": [
    "#stochastic gradient descent\n",
    "epoch=5000\n",
    "rate=0.01\n",
    "for i in range(epoch):\n",
    "    for j in range(diabetes_X_train.shape[0]):\n",
    "        a = diabetes_y_train[j]-np.dot(theta,diabetes_X_train[j])\n",
    "        theta = theta + rate* a*diabetes_X_train[j]\n",
    "\n",
    "print(theta)"
   ]
  },
  {
   "cell_type": "code",
   "execution_count": 124,
   "metadata": {},
   "outputs": [
    {
     "data": {
      "text/plain": [
       "array([ 1.52764292e+02,  3.06094248e-01, -2.37635570e+02,  5.10538048e+02,\n",
       "        3.27729878e+02, -8.14111926e+02,  4.92799595e+02,  1.02841240e+02,\n",
       "        1.84603496e+02,  7.43509388e+02,  7.60966464e+01])"
      ]
     },
     "execution_count": 124,
     "metadata": {},
     "output_type": "execute_result"
    }
   ],
   "source": [
    "#矩阵求导\n",
    "np.dot(np.dot(np.linalg.inv(np.dot(diabetes_X_train.T,diabetes_X_train)),diabetes_X_train.T),diabetes_y_train)"
   ]
  }
 ],
 "metadata": {
  "kernelspec": {
   "display_name": "Python 3",
   "language": "python",
   "name": "python3"
  },
  "language_info": {
   "codemirror_mode": {
    "name": "ipython",
    "version": 3
   },
   "file_extension": ".py",
   "mimetype": "text/x-python",
   "name": "python",
   "nbconvert_exporter": "python",
   "pygments_lexer": "ipython3",
   "version": "3.11.0"
  },
  "orig_nbformat": 4
 },
 "nbformat": 4,
 "nbformat_minor": 2
}
